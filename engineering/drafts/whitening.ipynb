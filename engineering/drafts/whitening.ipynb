{
 "cells": [
  {
   "cell_type": "markdown",
   "id": "24a56e73-3451-4342-b174-bdf3e646bd9d",
   "metadata": {},
   "source": [
    "https://spaces.ac.cn/archives/8069"
   ]
  },
  {
   "cell_type": "code",
   "execution_count": null,
   "id": "675c1c66-c790-44ac-b7c7-4598c34c5d1c",
   "metadata": {},
   "outputs": [],
   "source": []
  },
  {
   "cell_type": "code",
   "execution_count": null,
   "id": "64136e91-351c-46cc-9268-3039bf44ddd0",
   "metadata": {},
   "outputs": [],
   "source": []
  },
  {
   "cell_type": "code",
   "execution_count": null,
   "id": "34c8ea95-386e-4292-bfcb-41be0b50ab3a",
   "metadata": {},
   "outputs": [],
   "source": []
  },
  {
   "cell_type": "markdown",
   "id": "c8f939ee-e969-485c-8d8d-4c5a8e44e772",
   "metadata": {},
   "source": [
    "# numpy版本"
   ]
  },
  {
   "cell_type": "code",
   "execution_count": 2,
   "id": "f85ffa43-79f6-4794-b723-92f5b38d0f46",
   "metadata": {
    "tags": []
   },
   "outputs": [],
   "source": [
    "import pickle\n",
    "import numpy as np\n",
    "\n",
    "class Whitening(object):\n",
    "    def __init__(self, reps):\n",
    "        self.question_reps = reps\n",
    "            \n",
    "    def save_kernel_bias(self, path):\n",
    "        whiten = {\n",
    "            'kernel': self.kernel,\n",
    "            'bias': self.bias\n",
    "        }\n",
    "        with open(path, 'wb') as f:\n",
    "            pickle.dump(whiten, f)\n",
    "        return\n",
    "    \n",
    "    def load_kernel_bias(self, path):\n",
    "        with open(path, 'rb') as f:\n",
    "            whiten = pickle.load(f)\n",
    "        return whiten['kernel'], whiten['bias']\n",
    "        \n",
    "\n",
    "    def compute_kernel_bias(self):\n",
    "        \"\"\"计算kernel和bias\n",
    "        最后的变换：y = (x + bias).dot(kernel)\n",
    "        \"\"\"\n",
    "        mu = self.question_reps.mean(axis=0, keepdims=True)\n",
    "        cov = np.cov(self.question_reps.T)\n",
    "        u, s, vh = np.linalg.svd(cov)\n",
    "        W = np.dot(u, np.diag(1/np.sqrt(s)))\n",
    "        return W, -mu\n",
    "\n",
    "    def transform_and_normalize(self, vecs):\n",
    "        \"\"\"应用变换，然后标准化\n",
    "        \"\"\"\n",
    "        if not (self.kernel is None or self.bias is None):\n",
    "            vecs = (vecs + self.bias).dot(self.kernel)\n",
    "        return vecs / (vecs**2).sum(axis=1, keepdims=True)**0.5\n",
    "\n",
    "    def whitening(self):\n",
    "        self.kernel, self.bias = self.compute_kernel_bias()\n",
    "        whitened_reps = []\n",
    "        for i in range(self.question_reps.shape[0]):\n",
    "            whitened_reps.append(self.transform_and_normalize(self.question_reps[i, :]).squeeze(0))\n",
    "        return np.array(whitened_reps).astype(\"float32\")"
   ]
  },
  {
   "cell_type": "code",
   "execution_count": 3,
   "id": "b78f40dc-0030-49d5-a2dd-9329b9c4e044",
   "metadata": {
    "tags": []
   },
   "outputs": [
    {
     "name": "stdout",
     "output_type": "stream",
     "text": [
      "[[0.44030528 0.92999532]\n",
      " [0.69068517 0.59581432]\n",
      " [0.71507307 0.43196052]\n",
      " [0.6306014  0.61970793]\n",
      " [0.44024523 0.17010015]]\n"
     ]
    },
    {
     "data": {
      "text/plain": [
       "array([[ 0.8158315 , -0.57828975],\n",
       "       [ 0.18700892,  0.9823582 ],\n",
       "       [-0.41579348,  0.90945905],\n",
       "       [ 0.5567029 ,  0.83071166],\n",
       "       [-0.7591021 , -0.6509716 ]], dtype=float32)"
      ]
     },
     "execution_count": 3,
     "metadata": {},
     "output_type": "execute_result"
    }
   ],
   "source": [
    "data = np.random.rand(5, 2)\n",
    "print(data)\n",
    "\n",
    "compute = Whitening(data)\n",
    "compute.whitening()"
   ]
  },
  {
   "cell_type": "markdown",
   "id": "032f3f3c-9c02-4db3-b6d4-d1343e234184",
   "metadata": {},
   "source": [
    "# torch版本"
   ]
  },
  {
   "cell_type": "code",
   "execution_count": 8,
   "id": "3b050c1e-0e55-46a5-888e-a96b4a10af93",
   "metadata": {
    "tags": []
   },
   "outputs": [
    {
     "data": {
      "text/plain": [
       "tensor([[ 0.8158, -0.5783],\n",
       "        [ 0.1870,  0.9824],\n",
       "        [-0.4158,  0.9095],\n",
       "        [ 0.5567,  0.8307],\n",
       "        [-0.7591, -0.6510]], dtype=torch.float64)"
      ]
     },
     "execution_count": 8,
     "metadata": {},
     "output_type": "execute_result"
    }
   ],
   "source": [
    "import torch\n",
    "\n",
    "def whitening_torch(embed):\n",
    "    # For torch < 1.10\n",
    "    mu = torch.mean(embed, dim=0, keepdim=True)\n",
    "    # cov = torch.mm((embeddings - mu).t(), (embeddings - mu))\n",
    "    # For torch >= 1.10\n",
    "    cov = torch.cov(embed.t()) # 计算协方差矩阵。描述的是一组随机变量两两之间的相关性大小\n",
    "    \n",
    "    u, s, vt = torch.svd(cov)    # 奇异值分解，输出 左奇异向量矩阵，奇异值向量，右奇异向量矩阵\n",
    "    W = torch.mm(u, torch.diag(1/torch.sqrt(s)))\n",
    "    embed = torch.mm(embed - mu, W)\n",
    "    return embed\n",
    "\n",
    "torch.nn.functional.normalize(whitening_torch(torch.from_numpy(data)))"
   ]
  },
  {
   "cell_type": "code",
   "execution_count": null,
   "id": "2b77f43d-4a87-4537-952a-c369e7e2d995",
   "metadata": {},
   "outputs": [],
   "source": []
  },
  {
   "cell_type": "markdown",
   "id": "fd7ba3a7-f911-4f4a-8882-a294e1f4e360",
   "metadata": {},
   "source": [
    "# 查看转换后距离变化\n",
    "\n",
    "距离的大小变化了，不仅数值变化，连相对大小关系、顺序都变化了。"
   ]
  },
  {
   "cell_type": "code",
   "execution_count": 9,
   "id": "5b9835c9-2e1f-4951-832b-f6bbc3656859",
   "metadata": {
    "tags": []
   },
   "outputs": [],
   "source": [
    "c = torch.from_numpy(data)"
   ]
  },
  {
   "cell_type": "code",
   "execution_count": 10,
   "id": "9870b5e9-0476-4449-bd14-be9a0579ec13",
   "metadata": {
    "tags": []
   },
   "outputs": [
    {
     "data": {
      "text/plain": [
       "tensor([[1.0000, 0.9144, 0.8336, 0.9387, 0.7249],\n",
       "        [0.9144, 1.0000, 0.9859, 0.9979, 0.9417],\n",
       "        [0.8336, 0.9859, 1.0000, 0.9729, 0.9848],\n",
       "        [0.9387, 0.9979, 0.9729, 1.0000, 0.9179],\n",
       "        [0.7249, 0.9417, 0.9848, 0.9179, 1.0000]], dtype=torch.float64)"
      ]
     },
     "execution_count": 10,
     "metadata": {},
     "output_type": "execute_result"
    }
   ],
   "source": [
    "torch.nn.functional.cosine_similarity(c.unsqueeze(dim=1), c.unsqueeze(dim=0), dim=2)   # [5, 1, 2] [1, 5, 2]"
   ]
  },
  {
   "cell_type": "code",
   "execution_count": 11,
   "id": "f0990525-9e3d-4936-bf2b-2eeaceb5d123",
   "metadata": {
    "tags": []
   },
   "outputs": [],
   "source": [
    "c2 = torch.nn.functional.normalize(whitening_torch(c))"
   ]
  },
  {
   "cell_type": "code",
   "execution_count": 12,
   "id": "facb5712-0a1a-4b2d-b8b5-03e76664b973",
   "metadata": {
    "tags": []
   },
   "outputs": [
    {
     "data": {
      "text/plain": [
       "tensor([[ 1.0000, -0.4155, -0.8651, -0.0262, -0.2428],\n",
       "        [-0.4155,  1.0000,  0.8157,  0.9202, -0.7814],\n",
       "        [-0.8651,  0.8157,  1.0000,  0.5240, -0.2764],\n",
       "        [-0.0262,  0.9202,  0.5240,  1.0000, -0.9634],\n",
       "        [-0.2428, -0.7814, -0.2764, -0.9634,  1.0000]], dtype=torch.float64)"
      ]
     },
     "execution_count": 12,
     "metadata": {},
     "output_type": "execute_result"
    }
   ],
   "source": [
    "torch.nn.functional.cosine_similarity(c2.unsqueeze(dim=1), c2.unsqueeze(dim=0), dim=2)"
   ]
  },
  {
   "cell_type": "code",
   "execution_count": null,
   "id": "fe481441-12cf-4e0e-98b4-f50a4b5955a6",
   "metadata": {},
   "outputs": [],
   "source": []
  }
 ],
 "metadata": {
  "kernelspec": {
   "display_name": "rank",
   "language": "python",
   "name": "rank"
  },
  "language_info": {
   "codemirror_mode": {
    "name": "ipython",
    "version": 3
   },
   "file_extension": ".py",
   "mimetype": "text/x-python",
   "name": "python",
   "nbconvert_exporter": "python",
   "pygments_lexer": "ipython3",
   "version": "3.9.16"
  }
 },
 "nbformat": 4,
 "nbformat_minor": 5
}
