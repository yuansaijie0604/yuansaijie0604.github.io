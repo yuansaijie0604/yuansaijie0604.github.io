{
 "cells": [
  {
   "cell_type": "code",
   "execution_count": 4,
   "id": "c95b17fa-87e8-4b65-adf7-851feed6812d",
   "metadata": {
    "tags": []
   },
   "outputs": [],
   "source": [
    "import torch\n",
    "import pandas as pd\n",
    "import numpy as np"
   ]
  },
  {
   "cell_type": "markdown",
   "id": "d5ad3629-c39f-45df-aa8a-e50a1a2f3ab6",
   "metadata": {},
   "source": [
    "# collate_fn\n",
    "\n",
    "## 重新定义一个函数"
   ]
  },
  {
   "cell_type": "code",
   "execution_count": 17,
   "id": "1e8f2605-03c0-480d-9f95-841cf69df659",
   "metadata": {
    "tags": []
   },
   "outputs": [],
   "source": [
    "from transformers import AutoTokenizer\n",
    "\n",
    "tokenizer = AutoTokenizer.from_pretrained(\"bert-base-chinese\", model_max_length=15)"
   ]
  },
  {
   "cell_type": "code",
   "execution_count": 7,
   "id": "31e38894-919f-45c5-b2c5-aabce55420e1",
   "metadata": {
    "tags": []
   },
   "outputs": [],
   "source": [
    "data = pd.DataFrame({\"text_a\": [\"糖尿病该吃什么\", \"为什么我有高血压\", \"甲状腺该吃什么\", \"为什么甲状腺激素身高\"], \\\n",
    "                     \"text_b\": [\"糖尿病患者饮食推荐\", \"高血压吃啥合适\", \"甲状腺病因\", \"甲状腺激素身高理由\"], \\\n",
    "                     \"label\": [1, 0, 0, 1]})"
   ]
  },
  {
   "cell_type": "code",
   "execution_count": 6,
   "id": "243fb4ca-d33d-4c3b-9e8e-166a318efb21",
   "metadata": {
    "tags": []
   },
   "outputs": [],
   "source": [
    "from torch.utils.data import Dataset, DataLoader"
   ]
  },
  {
   "cell_type": "code",
   "execution_count": 25,
   "id": "607651e4-8a3c-4c5d-a525-35191d42eeff",
   "metadata": {
    "tags": []
   },
   "outputs": [
    {
     "data": {
      "text/plain": [
       "[{'text_a': '糖尿病该吃什么', 'text_b': '糖尿病患者饮食推荐', 'label': 1},\n",
       " {'text_a': '为什么我有高血压', 'text_b': '高血压吃啥合适', 'label': 0},\n",
       " {'text_a': '甲状腺该吃什么', 'text_b': '甲状腺病因', 'label': 0},\n",
       " {'text_a': '为什么甲状腺激素身高', 'text_b': '甲状腺激素身高理由', 'label': 1}]"
      ]
     },
     "execution_count": 25,
     "metadata": {},
     "output_type": "execute_result"
    }
   ],
   "source": [
    "data.to_dict(\"records\")"
   ]
  },
  {
   "cell_type": "code",
   "execution_count": 26,
   "id": "cb4c6710-55a9-46fe-9bf1-c1bdbc23657a",
   "metadata": {
    "tags": []
   },
   "outputs": [],
   "source": [
    "class PairDataset(Dataset):\n",
    "    def __init__(self, df):\n",
    "        self.data = df.to_dict(\"records\")\n",
    "        \n",
    "    def __len__(self):\n",
    "        return len(self.data)\n",
    "    \n",
    "    def __getitem__(self, index):\n",
    "        return self.data[index]"
   ]
  },
  {
   "cell_type": "code",
   "execution_count": null,
   "id": "09c62cff-e79e-4a05-97a2-67e1071dd399",
   "metadata": {},
   "outputs": [],
   "source": []
  },
  {
   "cell_type": "code",
   "execution_count": 44,
   "id": "d7fb3d46-f5d0-44ed-96d8-f8c46cd2f25a",
   "metadata": {
    "tags": []
   },
   "outputs": [],
   "source": [
    "def collate_fn_intra(batch):\n",
    "    # 此处的batch，是由dataset中__getitem__获取的数据列表list\n",
    "    # print(batch)\n",
    "    # print(type(batch))\n",
    "    # print(type(batch[0]))\n",
    "\n",
    "    text_a = [x['text_a'] for x in batch]\n",
    "    text_b = [x['text_b'] for x in batch]\n",
    "    labels = [x['label'] for x in batch]\n",
    "\n",
    "    batch_data = {}\n",
    "    batch_a = tokenizer(text_a, padding=True, return_tensors='pt')\n",
    "    batch_b = tokenizer(text_b, padding=True, return_tensors='pt')\n",
    "    batch_data['input_a'] = batch_a['input_ids']\n",
    "    batch_data['input_b'] = batch_b['input_ids']\n",
    "    batch_data['label'] = torch.tensor(labels)\n",
    "\n",
    "    return batch_data"
   ]
  },
  {
   "cell_type": "code",
   "execution_count": 46,
   "id": "48a6ae10-bd39-4fbe-9032-a6e787ff6fab",
   "metadata": {
    "tags": []
   },
   "outputs": [
    {
     "name": "stdout",
     "output_type": "stream",
     "text": [
      "{'input_a': tensor([[ 101, 5131, 2228, 4567, 6421, 1391,  784,  720,  102,    0],\n",
      "        [ 101,  711,  784,  720, 2769, 3300, 7770, 6117, 1327,  102]]), 'input_b': tensor([[ 101, 5131, 2228, 4567, 2642, 5442, 7650, 7608, 2972, 5773,  102],\n",
      "        [ 101, 7770, 6117, 1327, 1391, 1567, 1394, 6844,  102,    0,    0]]), 'label': tensor([1, 0])}\n",
      "--------------------------------------------------\n",
      "{'input_a': tensor([[ 101, 4508, 4307, 5593, 6421, 1391,  784,  720,  102,    0,    0,    0],\n",
      "        [ 101,  711,  784,  720, 4508, 4307, 5593, 4080, 5162, 6716, 7770,  102]]), 'input_b': tensor([[ 101, 4508, 4307, 5593, 4567, 1728,  102,    0,    0,    0,    0],\n",
      "        [ 101, 4508, 4307, 5593, 4080, 5162, 6716, 7770, 4415, 4507,  102]]), 'label': tensor([0, 1])}\n",
      "--------------------------------------------------\n"
     ]
    }
   ],
   "source": [
    "ds = PairDataset(data)\n",
    "\n",
    "dl = DataLoader(ds, batch_size=2, shuffle=False, num_workers=0, drop_last=False, collate_fn=collate_fn_intra)\n",
    "\n",
    "for x in dl:\n",
    "    print(x)\n",
    "    print('-'*50)"
   ]
  },
  {
   "cell_type": "markdown",
   "id": "05bf09ab-ede8-4cf6-94bb-60fbece87022",
   "metadata": {},
   "source": [
    "## 利用lambda"
   ]
  },
  {
   "cell_type": "markdown",
   "id": "80f3c1ff-2548-4b07-a6aa-b09e34e745e9",
   "metadata": {
    "tags": []
   },
   "source": [
    "直接喂文本，tokenizer留给模型去做"
   ]
  },
  {
   "cell_type": "code",
   "execution_count": 94,
   "id": "1f359a10-09bd-4c84-a58b-f2b83a0e4069",
   "metadata": {
    "tags": []
   },
   "outputs": [
    {
     "name": "stdout",
     "output_type": "stream",
     "text": [
      "[{'text_a': '糖尿病该吃什么', 'text_b': '糖尿病患者饮食推荐', 'label': 1}, {'text_a': '为什么我有高血压', 'text_b': '高血压吃啥合适', 'label': 0}]\n",
      "--------------------------------------------------\n",
      "[{'text_a': '甲状腺该吃什么', 'text_b': '甲状腺病因', 'label': 0}, {'text_a': '为什么甲状腺激素身高', 'text_b': '甲状腺激素身高理由', 'label': 1}]\n",
      "--------------------------------------------------\n"
     ]
    }
   ],
   "source": [
    "ds = PairDataset(data)\n",
    "\n",
    "dl = DataLoader(ds, batch_size=2, shuffle=False, num_workers=0, drop_last=False, collate_fn=lambda x: x)\n",
    "\n",
    "for x in dl:\n",
    "    print(x)\n",
    "    print('-'*50)"
   ]
  },
  {
   "cell_type": "code",
   "execution_count": 95,
   "id": "fdf60f9d-8aca-4a78-9df8-3f22953b5abf",
   "metadata": {
    "tags": []
   },
   "outputs": [],
   "source": [
    "def input_text(batch):\n",
    "    text_a = [x['text_a'] for x in batch]\n",
    "    text_b = [x['text_b'] for x in batch]\n",
    "    labels = [x['label'] for x in batch]\n",
    "    \n",
    "    return text_a, text_b, labels"
   ]
  },
  {
   "cell_type": "code",
   "execution_count": 96,
   "id": "f200e422-c6be-43b2-8df5-9ec85bdd1b0b",
   "metadata": {
    "tags": []
   },
   "outputs": [
    {
     "name": "stdout",
     "output_type": "stream",
     "text": [
      "(['糖尿病该吃什么', '为什么我有高血压'], ['糖尿病患者饮食推荐', '高血压吃啥合适'], [1, 0])\n",
      "--------------------------------------------------\n",
      "(['甲状腺该吃什么', '为什么甲状腺激素身高'], ['甲状腺病因', '甲状腺激素身高理由'], [0, 1])\n",
      "--------------------------------------------------\n"
     ]
    }
   ],
   "source": [
    "ds = PairDataset(data)\n",
    "\n",
    "dl = DataLoader(ds, batch_size=2, shuffle=False, num_workers=0, drop_last=False, collate_fn=lambda x: input_text(x))\n",
    "\n",
    "for x in dl:\n",
    "    print(x)\n",
    "    print('-'*50)"
   ]
  },
  {
   "cell_type": "code",
   "execution_count": 92,
   "id": "15441813-163b-4879-af5e-02c84616b756",
   "metadata": {
    "tags": []
   },
   "outputs": [],
   "source": [
    "# 可以写处理函数传一些其他参数进去\n",
    "\n",
    "def collate_fn_intra(batch, tokenizer):\n",
    "    # 此处的batch，是由dataset中__getitem__获取的数据列表list\n",
    "    # print(batch)\n",
    "    # print(type(batch))\n",
    "    # print(type(batch[0]))\n",
    "    \n",
    "    print(batch)\n",
    "    print('*'*20)\n",
    "    text_a = [x['text_a'] for x in batch]\n",
    "    text_b = [x['text_b'] for x in batch]\n",
    "    labels = [x['label'] for x in batch]\n",
    "\n",
    "    batch_data = {}\n",
    "    batch_a = tokenizer(text_a, padding=True, return_tensors='pt')\n",
    "    batch_b = tokenizer(text_b, padding=True, return_tensors='pt')\n",
    "    batch_data['input_a'] = batch_a['input_ids']\n",
    "    batch_data['input_b'] = batch_b['input_ids']\n",
    "    batch_data['label'] = torch.tensor(labels)\n",
    "\n",
    "    return batch_data"
   ]
  },
  {
   "cell_type": "code",
   "execution_count": 93,
   "id": "91943014-6626-41d6-9b6d-2fe6139c5a50",
   "metadata": {
    "tags": []
   },
   "outputs": [
    {
     "name": "stdout",
     "output_type": "stream",
     "text": [
      "[{'text_a': '糖尿病该吃什么', 'text_b': '糖尿病患者饮食推荐', 'label': 1}, {'text_a': '为什么我有高血压', 'text_b': '高血压吃啥合适', 'label': 0}]\n",
      "********************\n",
      "{'input_a': tensor([[ 101, 5131, 2228, 4567, 6421, 1391,  784,  720,  102,    0],\n",
      "        [ 101,  711,  784,  720, 2769, 3300, 7770, 6117, 1327,  102]]), 'input_b': tensor([[ 101, 5131, 2228, 4567, 2642, 5442, 7650, 7608, 2972, 5773,  102],\n",
      "        [ 101, 7770, 6117, 1327, 1391, 1567, 1394, 6844,  102,    0,    0]]), 'label': tensor([1, 0])}\n",
      "--------------------------------------------------\n",
      "[{'text_a': '甲状腺该吃什么', 'text_b': '甲状腺病因', 'label': 0}, {'text_a': '为什么甲状腺激素身高', 'text_b': '甲状腺激素身高理由', 'label': 1}]\n",
      "********************\n",
      "{'input_a': tensor([[ 101, 4508, 4307, 5593, 6421, 1391,  784,  720,  102,    0,    0,    0],\n",
      "        [ 101,  711,  784,  720, 4508, 4307, 5593, 4080, 5162, 6716, 7770,  102]]), 'input_b': tensor([[ 101, 4508, 4307, 5593, 4567, 1728,  102,    0,    0,    0,    0],\n",
      "        [ 101, 4508, 4307, 5593, 4080, 5162, 6716, 7770, 4415, 4507,  102]]), 'label': tensor([0, 1])}\n",
      "--------------------------------------------------\n"
     ]
    }
   ],
   "source": [
    "ds = PairDataset(data)\n",
    "\n",
    "dl = DataLoader(ds, batch_size=2, \\\n",
    "                shuffle=False, \\\n",
    "                num_workers=0, \\\n",
    "                drop_last=False, \\\n",
    "                collate_fn=lambda x: collate_fn_intra(x, tokenizer))\n",
    "\n",
    "for x in dl:\n",
    "    print(x)\n",
    "    print('-'*50)"
   ]
  },
  {
   "cell_type": "markdown",
   "id": "960efe6c-a968-48fc-9eb7-be0b3286018b",
   "metadata": {},
   "source": [
    "# Datasets与IterableDatasets的区别\n",
    "\n",
    "在matchzoo-py的源码中看到了`IterableDatasets`,找其区别\n",
    "\n",
    "- 使用场景：总有些数据不是能一次性读入内存中的，需要iterable对象批量读取\n",
    "\n",
    "- `iter` 方法的作用是让对象可以用 for...in...循环遍历，`getitem` 方法是让对象可以通过index索引的方式访问实例中的元素。\n",
    "\n",
    "- 主要实现iter函数获取数据。注意当进行多线程处理数据时，每个worker会复制一份数据，为了避免数据重复，官方给出[两种解决方式](https://pytorch.org/docs/stable/data.html#iterable-style-datasets)\n"
   ]
  },
  {
   "cell_type": "code",
   "execution_count": 88,
   "id": "ce259a13-2ae8-4a42-be4e-65efbe214c20",
   "metadata": {
    "tags": []
   },
   "outputs": [],
   "source": [
    "from torch.utils.data import IterableDataset\n",
    "\n",
    "class IterPairDataset(IterableDataset):\n",
    "    def __init__(self, nums):\n",
    "        self.nums = nums\n",
    "    \n",
    "    def __iter__(self):\n",
    "        for i in range(self.nums):\n",
    "            yield i"
   ]
  },
  {
   "cell_type": "code",
   "execution_count": 91,
   "id": "68504fb7-85cb-49d5-b982-19be6a65ee6d",
   "metadata": {
    "tags": []
   },
   "outputs": [
    {
     "name": "stdout",
     "output_type": "stream",
     "text": [
      "tensor([0, 1])\n",
      "--------------------------------------------------\n",
      "tensor([2, 3])\n",
      "--------------------------------------------------\n",
      "tensor([4, 5])\n",
      "--------------------------------------------------\n"
     ]
    }
   ],
   "source": [
    "iter_ds = IterPairDataset(6)\n",
    "\n",
    "dl = DataLoader(iter_ds, batch_size=2, num_workers=0)\n",
    "\n",
    "for x in dl:\n",
    "    print(x)\n",
    "    print('-'*50)"
   ]
  },
  {
   "cell_type": "code",
   "execution_count": null,
   "id": "b74ace91-518e-4d06-8f60-c72f4f84a7e7",
   "metadata": {},
   "outputs": [],
   "source": []
  },
  {
   "cell_type": "code",
   "execution_count": null,
   "id": "f4aba5a7-2623-438f-bc57-0a857a0b6006",
   "metadata": {},
   "outputs": [],
   "source": []
  },
  {
   "cell_type": "code",
   "execution_count": null,
   "id": "255acc31-0d18-4263-bc6b-edaa5439fdb1",
   "metadata": {},
   "outputs": [],
   "source": []
  }
 ],
 "metadata": {
  "kernelspec": {
   "display_name": "dgl",
   "language": "python",
   "name": "dgl"
  },
  "language_info": {
   "codemirror_mode": {
    "name": "ipython",
    "version": 3
   },
   "file_extension": ".py",
   "mimetype": "text/x-python",
   "name": "python",
   "nbconvert_exporter": "python",
   "pygments_lexer": "ipython3",
   "version": "3.9.18"
  }
 },
 "nbformat": 4,
 "nbformat_minor": 5
}
